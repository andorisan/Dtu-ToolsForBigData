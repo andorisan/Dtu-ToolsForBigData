{
 "cells": [
  {
   "cell_type": "markdown",
   "metadata": {},
   "source": [
    "# All english wikipedia"
   ]
  },
  {
   "cell_type": "code",
   "execution_count": 34,
   "metadata": {
    "collapsed": false
   },
   "outputs": [
    {
     "name": "stdout",
     "output_type": "stream",
     "text": [
      "['#redirect [[atlas shrugged]]']\n",
      "['#redirect [[aviation]]']\n",
      "['#redirect [[amoeba]]']\n",
      "['#redirect [[al gore]]']\n",
      "['#redirect [[auteur]]']\n",
      "['#redirect [[arithmetic logic unit]]']\n",
      "['#redirect [[computer accessibility]]']\n",
      "['#redirect [[logical form]]']\n",
      "['#redirect [[amalthea (mythology)]]']\n",
      "['#redirect [[wikipedia:nupedia and wikipedia]]']\n",
      "['#redirect [[astronomer]]']\n",
      "['#redirect [[a. e. van vogt]]']\n",
      "['#redirect [[internet troll]]']\n",
      "['#redirect [[afghanistan]]']\n",
      "['#redirect [[anglican communion]]']\n",
      "['#redirect [[abiotic component]]']\n",
      "['#redirect [[nomic]]']\n",
      "['#redirect [[antisemitism]]']\n",
      "['#redirect [[a. a. milne]]']\n",
      "['#redirect [[jeff noon]]']\n",
      "['#redirect [[jeff noon]]']\n",
      "['#redirect [[jeff noon]]']\n",
      "['#redirect [[jeff noon]]']\n",
      "['#redirect [[jeff noon]]']\n",
      "['#redirect [[jeff noon]]']\n",
      "['#redirect [[jeff noon]]']\n",
      "['#redirect [[jeff noon]]']\n",
      "['#redirect [[jeff noon]]']\n",
      "['#redirect [[jeff noon]]']\n",
      "['#redirect [[automated alice]]']\n",
      "['#redirect [[jeff noon]]']\n",
      "['#redirect [[velar nasal]]']\n",
      "['#redirect [[existence of god]]']\n",
      "['#redirect [[knowledge]]']\n",
      "['#redirect [[a priori and a posteriori]]']\n",
      "['#redirect [[anarcho-capitalism]]']\n",
      "['#redirect [[american samoa]]']\n",
      "0.507709026337\n"
     ]
    }
   ],
   "source": [
    "import json\n",
    "import re\n",
    "import time\n",
    "\n",
    "fileUri = \"/Users/GretarAtli/Documents/GitHub/Dtu/Dtu-ToolsForBigData/challenge/mini.xml\"\n",
    "processedFileUri = \"/Users/GretarAtli/Documents/GitHub/Dtu/Dtu-ToolsForBigData/challenge/mini_processed.xml\"\n",
    "\n",
    "position = 0\n",
    "regex = \"\"\n",
    "text = \"\"\n",
    "counter = 0\n",
    "t0 = time.time()\n",
    "\n",
    "# position 0 means that the program is currently reading lines that are not between <text><\\text>\n",
    "# position 1 means that the program is currently reading lines that are between <text><\\text>\n",
    "\n",
    "# open a file to write in \n",
    "w = open(processedFileUri, 'w')\n",
    "\n",
    "with open(fileUri) as f:\n",
    "    for line in f:\n",
    "        #  convert line breaks to spaces. Convert all upper case letters to lower case letters. \n",
    "        line = line.replace(\"\\n\",\" \").lower()\n",
    "        if position == 0 :\n",
    "            reresult = re.findall(\"<text.*>(.*)\",line)\n",
    "            # if the string contains the substring <text then we need to start collection the words\n",
    "            if reresult:\n",
    "                #check if the string contains <\\text> to handle the case of <text> and </text> in the same line\n",
    "                reTextEndingResult = re.findall(\"<text.*>(.*)</text>\", line)\n",
    "                if reTextEndingResult:\n",
    "                    print reTextEndingResult\n",
    "                    counter += 1\n",
    "                    # writing the last part of the page and adding a linebreak in the end\n",
    "                    text = text + reTextEndingResult[0] + \"\\n\"\n",
    "                    position = 0\n",
    "                    # write to file\n",
    "                    w.write(text)\n",
    "                    # initialize the string as a empty string\n",
    "                    text = \"\"\n",
    "                else:\n",
    "                    text = text + reresult[0]\n",
    "                    position = 1\n",
    "        elif position == 1:\n",
    "            reTextEndingResult = re.findall(\"</text>\", line)\n",
    "            if reTextEndingResult:\n",
    "                reTextEndingResult = re.findall(\"(.*)</text>\", line)\n",
    "                counter += 1\n",
    "                if counter % 1000 == 0:\n",
    "                    print counter\n",
    "                # writing the last part of the page and adding a linebreak in the end\n",
    "                text = text + reTextEndingResult[0] + \"\\n\"\n",
    "                position = 0\n",
    "                # write to file\n",
    "                w.write(text)\n",
    "                # initialize the string as a empty string\n",
    "                text = \"\"\n",
    "            else:\n",
    "                text = text + line\n",
    "w.close()\n",
    "\n",
    "t1 = time.time()\n",
    "\n",
    "print (t1-t0)\n",
    "                "
   ]
  },
  {
   "cell_type": "code",
   "execution_count": null,
   "metadata": {
    "collapsed": true
   },
   "outputs": [],
   "source": [
    "['#redirect [[atlas shrugged]]']\n",
    "['#redirect [[aviation]]']\n",
    "['#redirect [[amoeba]]']\n",
    "['#redirect [[al gore]]']\n",
    "['#redirect [[auteur]]']\n",
    "['#redirect [[arithmetic logic unit]]']\n",
    "['#redirect [[computer accessibility]]']\n",
    "['#redirect [[logical form]]']\n",
    "['#redirect [[amalthea (mythology)]]']\n",
    "['#redirect [[wikipedia:nupedia and wikipedia]]']\n",
    "['#redirect [[astronomer]]']\n",
    "['#redirect [[a. e. van vogt]]']\n",
    "['#redirect [[internet troll]]']\n",
    "['#redirect [[afghanistan]]']\n",
    "['#redirect [[anglican communion]]']\n",
    "['#redirect [[abiotic component]]']\n",
    "61000\n",
    "['#redirect [[nomic]]']\n",
    "['#redirect [[antisemitism]]']\n",
    "['#redirect [[a. a. milne]]']\n",
    "['#redirect [[jeff noon]]']\n",
    "['#redirect [[jeff noon]]']\n",
    "['#redirect [[jeff noon]]']\n",
    "['#redirect [[jeff noon]]']\n",
    "['#redirect [[jeff noon]]']\n",
    "['#redirect [[jeff noon]]']\n",
    "['#redirect [[jeff noon]]']\n",
    "['#redirect [[jeff noon]]']\n",
    "['#redirect [[jeff noon]]']\n",
    "['#redirect [[jeff noon]]']\n",
    "['#redirect [[automated alice]]']\n",
    "['#redirect [[jeff noon]]']\n",
    "['#redirect [[velar nasal]]']\n",
    "['#redirect [[existence of god]]']\n",
    "['#redirect [[knowledge]]']\n",
    "['#redirect [[a priori and a posteriori]]']\n",
    "['#redirect [[anarcho-capitalism]]']\n",
    "['#redirect [[american samoa]]']\n",
    "0.502784967422"
   ]
  },
  {
   "cell_type": "code",
   "execution_count": null,
   "metadata": {
    "collapsed": false
   },
   "outputs": [],
   "source": [
    "0.532473087311"
   ]
  },
  {
   "cell_type": "markdown",
   "metadata": {},
   "source": [
    "'''henry duncan''' may refer to: *[[henry duncan (royal navy officer, born 1735)]] (1735–1814), naval captain and deputy comptroller of the royal navy *sir [[henry duncan (royal navy officer, born 1786)]] (1786–1835), scottish sailor *[[henry duncan (minister)]] (1774–1846), scottish minister, geologist and social reformer; founder of the savings bank movement  ==see also== * {{intitle}} * [[james henry duncan (disambiguation)]]  {{hndis|duncan, henry}}"
   ]
  },
  {
   "cell_type": "markdown",
   "metadata": {
    "collapsed": false
   },
   "source": [
    "# All articles that start with A"
   ]
  },
  {
   "cell_type": "code",
   "execution_count": null,
   "metadata": {
    "collapsed": false
   },
   "outputs": [],
   "source": [
    "\n",
    "    \n",
    "        "
   ]
  },
  {
   "cell_type": "code",
   "execution_count": null,
   "metadata": {
    "collapsed": true
   },
   "outputs": [],
   "source": []
  },
  {
   "cell_type": "markdown",
   "metadata": {},
   "source": [
    "# The cat article"
   ]
  },
  {
   "cell_type": "code",
   "execution_count": 16,
   "metadata": {
    "collapsed": false
   },
   "outputs": [
    {
     "name": "stdout",
     "output_type": "stream",
     "text": [
      "https://en.wikipedia.org/w/index.php?title=cat&action=edit\n"
     ]
    },
    {
     "data": {
      "text/plain": [
       "235612L"
      ]
     },
     "execution_count": 16,
     "metadata": {},
     "output_type": "execute_result"
    }
   ],
   "source": [
    "import urllib2\n",
    "import json\n",
    "import re\n",
    "import io\n",
    "\n",
    "baseurl = \"https://en.wikipedia.org/w/index.php?\"\n",
    "title = \"title=cat\"\n",
    "action = \"action=edit\"\n",
    "\n",
    "query = \"{}{}&{}\".format(baseurl,title, action)\n",
    "print query\n",
    "wikiresponse = urllib2.urlopen(query)\n",
    "wikisource = wikiresponse.read()\n",
    "\n",
    "# Create the uri for the file in the os file system\n",
    "fileUri = \"/Users/GretarAtli/Documents/GitHub/Dtu/Dtu-ToolsForBigData/challenge/cat.xml\"\n",
    "#print fileUri\n",
    "f = io.open(fileUri, 'w', encoding='utf-8')\n",
    "f.write(unicode(json.dumps(wikisource)))"
   ]
  },
  {
   "cell_type": "code",
   "execution_count": null,
   "metadata": {
    "collapsed": true
   },
   "outputs": [],
   "source": []
  },
  {
   "cell_type": "code",
   "execution_count": null,
   "metadata": {
    "collapsed": true
   },
   "outputs": [],
   "source": []
  }
 ],
 "metadata": {
  "anaconda-cloud": {},
  "kernelspec": {
   "display_name": "Python [conda root]",
   "language": "python",
   "name": "conda-root-py"
  },
  "language_info": {
   "codemirror_mode": {
    "name": "ipython",
    "version": 2
   },
   "file_extension": ".py",
   "mimetype": "text/x-python",
   "name": "python",
   "nbconvert_exporter": "python",
   "pygments_lexer": "ipython2",
   "version": "2.7.12"
  }
 },
 "nbformat": 4,
 "nbformat_minor": 1
}
