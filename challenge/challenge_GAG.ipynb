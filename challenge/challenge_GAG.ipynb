{
 "cells": [
  {
   "cell_type": "markdown",
   "metadata": {},
   "source": [
    "### First I will create a script that can parse down the wikipedia page for henry duncan"
   ]
  },
  {
   "cell_type": "code",
   "execution_count": 15,
   "metadata": {
    "collapsed": true
   },
   "outputs": [],
   "source": [
    "import json\n",
    "import re\n",
    "\n",
    "fileUri = \"/Users/GretarAtli/Documents/GitHub/Dtu/Dtu-ToolsForBigData/challenge/HenryDuncan.txt\"\n",
    "\n",
    "file = open(fileUri)\n",
    "theArticle = file.read()\n",
    "\n",
    "filteredArticle = re.findall(r'<text.*>(.|\\n)*?</text>',theArticle)"
   ]
  },
  {
   "cell_type": "code",
   "execution_count": 16,
   "metadata": {
    "collapsed": false
   },
   "outputs": [
    {
     "data": {
      "text/plain": [
       "['}']"
      ]
     },
     "execution_count": 16,
     "metadata": {},
     "output_type": "execute_result"
    }
   ],
   "source": [
    "filteredArticle"
   ]
  },
  {
   "cell_type": "markdown",
   "metadata": {},
   "source": [
    "'''henry duncan''' may refer to: *[[henry duncan (royal navy officer, born 1735)]] (1735–1814), naval captain and deputy comptroller of the royal navy *sir [[henry duncan (royal navy officer, born 1786)]] (1786–1835), scottish sailor *[[henry duncan (minister)]] (1774–1846), scottish minister, geologist and social reformer; founder of the savings bank movement  ==see also== * {{intitle}} * [[james henry duncan (disambiguation)]]  {{hndis|duncan, henry}}"
   ]
  },
  {
   "cell_type": "code",
   "execution_count": 6,
   "metadata": {
    "collapsed": false
   },
   "outputs": [
    {
     "name": "stdout",
     "output_type": "stream",
     "text": [
      "<page>\n",
      "    <title>Henry Duncan</title>\n",
      "    <ns>0</ns>\n",
      "    <id>20255980</id>\n",
      "    <revision>\n",
      "      <id>732093433</id>\n",
      "      <parentid>732087133</parentid>\n",
      "      <timestamp>2016-07-29T15:35:10Z</timestamp>\n",
      "      <contributor>\n",
      "        <username>Boleyn</username>\n",
      "        <id>6127189</id>\n",
      "      </contributor>\n",
      "      <comment>we don't list partial matches</comment>\n",
      "      <model>wikitext</model>\n",
      "      <format>text/x-wiki</format>\n",
      "      <text xml:space=\"preserve\">'''Henry Duncan''' may refer to:\n",
      "*[[Henry Duncan (Royal Navy officer, born 1735)]] (1735–1814), Naval captain and Deputy Comptroller of the Royal Navy\n",
      "*Sir [[Henry Duncan (Royal Navy officer, born 1786)]] (1786–1835), Scottish sailor\n",
      "*[[Henry Duncan (minister)]] (1774–1846), Scottish minister, geologist and social reformer; founder of the savings bank movement\n",
      "\n",
      "==See also==\n",
      "* {{intitle}}\n",
      "* [[James Henry Duncan (disambiguation)]]\n",
      "\n",
      "{{hndis|Duncan, Henry}}</text>\n",
      "      <sha1>sn7jgqrpw2q3cl5bmsm4y60uwgo30az</sha1>\n",
      "    </revision>\n",
      "  </page>\n"
     ]
    }
   ],
   "source": [
    "print theArticle"
   ]
  }
 ],
 "metadata": {
  "anaconda-cloud": {},
  "kernelspec": {
   "display_name": "Python [conda root]",
   "language": "python",
   "name": "conda-root-py"
  },
  "language_info": {
   "codemirror_mode": {
    "name": "ipython",
    "version": 2
   },
   "file_extension": ".py",
   "mimetype": "text/x-python",
   "name": "python",
   "nbconvert_exporter": "python",
   "pygments_lexer": "ipython2",
   "version": "2.7.12"
  }
 },
 "nbformat": 4,
 "nbformat_minor": 1
}
