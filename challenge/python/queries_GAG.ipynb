{
 "cells": [
  {
   "cell_type": "code",
   "execution_count": 301,
   "metadata": {
    "collapsed": false
   },
   "outputs": [
    {
     "name": "stdout",
     "output_type": "stream",
     "text": [
      "The keys are ['or', 'or', 'or'] \n",
      "\n",
      "The result is : \n",
      "\n",
      "orld: priorities for\n",
      "or forage for\n",
      "orld record for\n"
     ]
    }
   ],
   "source": [
    "import json\n",
    "import re\n",
    "import time\n",
    "\n",
    "def getPattern(pattern):\n",
    "    pattern_split = pattern.replace('[',']')\n",
    "    pattern_split = pattern_split.split(']')\n",
    "    \n",
    "    pattern_container = {\n",
    "        \"keys\" : [],\n",
    "        \"restrictions\" : [],\n",
    "        \"index\" : []\n",
    "    }\n",
    "    \n",
    "    for i,p in enumerate(pattern_split):\n",
    "        if i%2 == 0:\n",
    "            pattern_container[\"keys\"].append(p.lower())\n",
    "        if i%2 == 1:\n",
    "            nr1,nr2 = p.split(\",\")\n",
    "            pattern_container[\"restrictions\"].append([int(nr1),int(nr2)])\n",
    "    # add the last element onto the patterna container list\n",
    "    return pattern_container\n",
    "\n",
    "def validate(matches,current_pos,level):\n",
    "    #print level\n",
    "    indexes = [i for i in pattern_container[\"index\"][level] if i > current_pos]\n",
    "    restrictions = pattern_container[\"restrictions\"][word_nr]\n",
    "    \n",
    "    for i in indexes:\n",
    "        previous_word = pattern_container[\"keys\"][level-1]\n",
    "        if restrictions[0] <=  i -  (len(previous_word) + current_pos)  <= restrictions[1]:\n",
    "            incremented_matches = matches + [i]\n",
    "            if level  == len(pattern_container[\"keys\"]) - 1:\n",
    "                start_index = incremented_matches[0]\n",
    "                end_index = incremented_matches[-1] + len(pattern_container[\"keys\"][-1])\n",
    "                # print incremented_matches\n",
    "                result.add(query[start_index:end_index])\n",
    "            elif level < len(pattern_container[\"keys\"]) - 1:\n",
    "                validate(incremented_matches,i,level+1)\n",
    "        else: break\n",
    "\n",
    "\n",
    "#incoming = \"ammmbnnnbncnnc\"\n",
    "#pattern = \"A[0,20]B[0,20]C[0,20]\"\n",
    "\n",
    "#incoming = \"aammbnnnbncnnc\"\n",
    "#pattern = \"A[0,20]B\"\n",
    "\n",
    "#incoming = \"I have a really nice cat in hat at home\"\n",
    "#pattern = \"have[0,20]cat[2,7]hat[0,20]home\"\n",
    "\n",
    "#incoming = 'I have a really nice cat in hat at home'\n",
    "#pattern = 'cat[2,4]hat'\n",
    "\n",
    "#fileUri = \"/Users/GretarAtli/Dropbox/Dtu/Tools_For_Big_Data/Exercises/challenge_1/wiki_english_art_cat_preproc.xml\"\n",
    "fileUri = \"/Users/GretarAtli/Dropbox/Dtu/Tools_For_Big_Data/Exercises/challenge_1/wiki_english_art_cat_preproc.xml\"\n",
    "\n",
    "incoming \n",
    "#pattern = 'cats[0,10]are[0,10]to'\n",
    "pattern = 'or[0,10]or[0,10]or'\n",
    "#pattern = 'when[15,25]republic[15,25]along'\n",
    "\n",
    "# initialize global parameters        \n",
    "global query # the string that is being queried\n",
    "global pattern_container # a pattern container\n",
    "global result # container for the matchin strings\n",
    "\n",
    "\n",
    "def queries(query_string):\n",
    "    query = incoming\n",
    "    pattern_container = getPattern(pattern)\n",
    "    result = set()\n",
    "\n",
    "    #print \"The query is {}\".format(query)\n",
    "    print \"The keys are {} \\n\".format(pattern_container[\"keys\"])\n",
    "\n",
    "    indexes = []\n",
    "    for key in pattern_container[\"keys\"]:\n",
    "        indexes.append([m.start() for m in re.finditer('(?={})'.format(key), query)])\n",
    "\n",
    "    pattern_container[\"index\"] = indexes\n",
    "\n",
    "    #print \"\\n container \\n\"\n",
    "    #print pattern_container    \n",
    "\n",
    "    #print \"start \\n\"\n",
    "\n",
    "    # going through the first list\n",
    "    for i in pattern_container[\"index\"][0]:\n",
    "        validate([i],i,1)\n",
    "\n",
    "    print \"The result is : \\n\"\n",
    "    if result:\n",
    "        for i in result:\n",
    "            print i\n",
    "    else:\n",
    "        print \"no match in this text\"\n",
    "\n",
    "    # delete from memory\n",
    "    del result\n",
    "    del incoming\n",
    "\n",
    "# open a file to process the data\n",
    "with open(fileUri) as f:\n",
    "    for line in f:\n",
    "        incoming = line\n",
    "\n",
    "\n",
    "            "
   ]
  },
  {
   "cell_type": "code",
   "execution_count": 272,
   "metadata": {
    "collapsed": false
   },
   "outputs": [
    {
     "name": "stdout",
     "output_type": "stream",
     "text": [
      "[0, 1]\n",
      "[4, 8]\n",
      "[10, 13]\n"
     ]
    }
   ],
   "source": [
    "for key in [\"a\",\"b\",\"c\"]:\n",
    "    print [m.start() for m in re.finditer('(?={})'.format(key),\"aammbnnnbncnnc\")]"
   ]
  },
  {
   "cell_type": "code",
   "execution_count": 169,
   "metadata": {
    "collapsed": false
   },
   "outputs": [],
   "source": []
  },
  {
   "cell_type": "code",
   "execution_count": 170,
   "metadata": {
    "collapsed": false
   },
   "outputs": [
    {
     "data": {
      "text/plain": [
       "[5, 6, 7, 8]"
      ]
     },
     "execution_count": 170,
     "metadata": {},
     "output_type": "execute_result"
    }
   ],
   "source": [
    "[i for i in bla if i > 4]"
   ]
  },
  {
   "cell_type": "code",
   "execution_count": 150,
   "metadata": {
    "collapsed": false
   },
   "outputs": [
    {
     "data": {
      "text/plain": [
       "[0, 20]"
      ]
     },
     "execution_count": 150,
     "metadata": {},
     "output_type": "execute_result"
    }
   ],
   "source": [
    "getPattern(\"A[0,20]B\")[\"restrictions\"][0]"
   ]
  },
  {
   "cell_type": "code",
   "execution_count": 153,
   "metadata": {
    "collapsed": false
   },
   "outputs": [
    {
     "ename": "TypeError",
     "evalue": "object of type 'int' has no len()",
     "output_type": "error",
     "traceback": [
      "\u001b[0;31m---------------------------------------------------------------------------\u001b[0m",
      "\u001b[0;31mTypeError\u001b[0m                                 Traceback (most recent call last)",
      "\u001b[0;32m<ipython-input-153-6bb7ce6d915b>\u001b[0m in \u001b[0;36m<module>\u001b[0;34m()\u001b[0m\n\u001b[0;32m----> 1\u001b[0;31m \u001b[0mqueries\u001b[0m\u001b[0;34m(\u001b[0m\u001b[0;34m\"ammmbannnb\"\u001b[0m\u001b[0;34m,\u001b[0m\u001b[0;34m\"A[0,20]B\"\u001b[0m\u001b[0;34m)\u001b[0m\u001b[0;34m\u001b[0m\u001b[0m\n\u001b[0m",
      "\u001b[0;32m<ipython-input-152-dc8a74201b0a>\u001b[0m in \u001b[0;36mqueries\u001b[0;34m(query_string, pattern)\u001b[0m\n\u001b[1;32m     43\u001b[0m         \u001b[0;32mfor\u001b[0m \u001b[0mword_nr\u001b[0m\u001b[0;34m,\u001b[0m\u001b[0mindex_list\u001b[0m \u001b[0;32min\u001b[0m \u001b[0menumerate\u001b[0m\u001b[0;34m(\u001b[0m\u001b[0mindexes\u001b[0m\u001b[0;34m)\u001b[0m\u001b[0;34m:\u001b[0m\u001b[0;34m\u001b[0m\u001b[0m\n\u001b[1;32m     44\u001b[0m             \u001b[0;32mfor\u001b[0m \u001b[0mi2\u001b[0m \u001b[0;32min\u001b[0m \u001b[0mindex_list\u001b[0m\u001b[0;34m:\u001b[0m\u001b[0;34m\u001b[0m\u001b[0m\n\u001b[0;32m---> 45\u001b[0;31m                 \u001b[0;32mif\u001b[0m \u001b[0mpattern_container\u001b[0m\u001b[0;34m[\u001b[0m\u001b[0;34m\"restrictions\"\u001b[0m\u001b[0;34m]\u001b[0m\u001b[0;34m[\u001b[0m\u001b[0mi\u001b[0m\u001b[0;34m]\u001b[0m\u001b[0;34m[\u001b[0m\u001b[0;36m0\u001b[0m\u001b[0;34m]\u001b[0m \u001b[0;34m<=\u001b[0m \u001b[0mlen\u001b[0m\u001b[0;34m(\u001b[0m\u001b[0mi\u001b[0m\u001b[0;34m)\u001b[0m\u001b[0;34m+\u001b[0m\u001b[0mi2\u001b[0m \u001b[0;34m<=\u001b[0m \u001b[0mpattern_container\u001b[0m\u001b[0;34m[\u001b[0m\u001b[0;34m\"restrictions\"\u001b[0m\u001b[0;34m]\u001b[0m\u001b[0;34m[\u001b[0m\u001b[0mi\u001b[0m\u001b[0;34m]\u001b[0m\u001b[0;34m[\u001b[0m\u001b[0;36m1\u001b[0m\u001b[0;34m]\u001b[0m\u001b[0;34m:\u001b[0m\u001b[0;34m\u001b[0m\u001b[0m\n\u001b[0m\u001b[1;32m     46\u001b[0m                     \u001b[0;32mprint\u001b[0m \u001b[0mTrue\u001b[0m\u001b[0;34m\u001b[0m\u001b[0m\n\u001b[1;32m     47\u001b[0m \u001b[0;34m\u001b[0m\u001b[0m\n",
      "\u001b[0;31mTypeError\u001b[0m: object of type 'int' has no len()"
     ]
    }
   ],
   "source": [
    "queries(\"ammmbannnb\",\"A[0,20]B\")"
   ]
  },
  {
   "cell_type": "code",
   "execution_count": 118,
   "metadata": {
    "collapsed": false
   },
   "outputs": [
    {
     "ename": "NameError",
     "evalue": "name 'indexes' is not defined",
     "output_type": "error",
     "traceback": [
      "\u001b[0;31m---------------------------------------------------------------------------\u001b[0m",
      "\u001b[0;31mNameError\u001b[0m                                 Traceback (most recent call last)",
      "\u001b[0;32m<ipython-input-118-7692814314e1>\u001b[0m in \u001b[0;36m<module>\u001b[0;34m()\u001b[0m\n\u001b[0;32m----> 1\u001b[0;31m \u001b[0mindexes\u001b[0m\u001b[0;34m\u001b[0m\u001b[0m\n\u001b[0m",
      "\u001b[0;31mNameError\u001b[0m: name 'indexes' is not defined"
     ]
    }
   ],
   "source": []
  },
  {
   "cell_type": "code",
   "execution_count": 32,
   "metadata": {
    "collapsed": false
   },
   "outputs": [],
   "source": [
    "    for i in range(\"AmmmBAnnnB\".count('A')):\n",
    "        start_index =\"AmmmBAnnnB\".index('A', start_index)\n",
    "\n",
    "        for j in range(start_index, len(\"AmmmBAnnnB\")):\n",
    "            string = ''.join([string, \"AmmmBAnnnB\"[j]])\n",
    "            if \"AmmmBAnnnB\"[j] == 'B' and len(string) > min_length:\n",
    "                print string\n",
    "        string = ''\n",
    "        start_index += 1\n",
    "    print string"
   ]
  },
  {
   "cell_type": "code",
   "execution_count": 43,
   "metadata": {
    "collapsed": false
   },
   "outputs": [],
   "source": [
    "pattern_split = pattern.replace('[',']')\n",
    "pattern_split = pattern_split.split(']')"
   ]
  },
  {
   "cell_type": "code",
   "execution_count": null,
   "metadata": {
    "collapsed": false
   },
   "outputs": [],
   "source": []
  },
  {
   "cell_type": "markdown",
   "metadata": {},
   "source": [
    "# Regex lausn"
   ]
  },
  {
   "cell_type": "code",
   "execution_count": 95,
   "metadata": {
    "collapsed": false
   },
   "outputs": [
    {
     "name": "stdout",
     "output_type": "stream",
     "text": [
      "AmmmBAnnnB\n",
      "AnnnB\n"
     ]
    }
   ],
   "source": [
    "import regex as re\n",
    "\n",
    "#re.findall(r'cat.{0,4}hat',  \"I have a really nice  cat in  hat at home cat there hat\")\n",
    "\n",
    "# regex lausn\n",
    "\n",
    "re.findall(r'A.{0,20}B{0,20}C{4,6}D',  \"AmmmBAnnnB\")\n",
    "\n",
    "s = \"AmmmBAnnnB\"\n",
    "matches = re.findall(r'A.{0,20}B', s, overlapped=True)\n",
    "for match in matches: print match\n"
   ]
  },
  {
   "cell_type": "code",
   "execution_count": 107,
   "metadata": {
    "collapsed": false
   },
   "outputs": [
    {
     "data": {
      "text/plain": [
       "[0, 1]"
      ]
     },
     "execution_count": 107,
     "metadata": {},
     "output_type": "execute_result"
    }
   ],
   "source": [
    "search = 'AmmmBAnnnB'\n",
    "[m.start() for m in re.finditer('(?=tt)', 'ttt')]"
   ]
  },
  {
   "cell_type": "markdown",
   "metadata": {
    "collapsed": false
   },
   "source": [
    "# Temp"
   ]
  },
  {
   "cell_type": "code",
   "execution_count": null,
   "metadata": {
    "collapsed": true
   },
   "outputs": [],
   "source": [
    "    for i,p in enumerate(pattern_split):\n",
    "        if i%2 == 0:\n",
    "            pat_and_nr = [p.lower()]\n",
    "        if i%2 == 1:\n",
    "            nr1,nr2 = p.split(\",\")\n",
    "            pat_and_nr.append(int(nr1))\n",
    "            pat_and_nr.append(int(nr2))\n",
    "            pattern_container.append(pat_and_nr)\n",
    "    # add the last element onto the patterna container list\n",
    "    pattern_container.append(pat_and_nr)\n",
    "    return pattern_container"
   ]
  }
 ],
 "metadata": {
  "anaconda-cloud": {},
  "kernelspec": {
   "display_name": "Python [conda root]",
   "language": "python",
   "name": "conda-root-py"
  },
  "language_info": {
   "codemirror_mode": {
    "name": "ipython",
    "version": 2
   },
   "file_extension": ".py",
   "mimetype": "text/x-python",
   "name": "python",
   "nbconvert_exporter": "python",
   "pygments_lexer": "ipython2",
   "version": "2.7.12"
  }
 },
 "nbformat": 4,
 "nbformat_minor": 1
}
