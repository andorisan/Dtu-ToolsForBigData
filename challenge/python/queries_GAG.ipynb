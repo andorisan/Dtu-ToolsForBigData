{
 "cells": [
  {
   "cell_type": "code",
   "execution_count": 20,
   "metadata": {
    "collapsed": false
   },
   "outputs": [],
   "source": [
    "import json\n",
    "import re\n",
    "import time\n",
    "\n",
    "def getPattern(pattern):\n",
    "    pattern_split = pattern.replace('[',']')\n",
    "    pattern_split = pattern_split.split(']')\n",
    "    \n",
    "    pattern_container = {\n",
    "        \"keys\" : [],\n",
    "        \"restrictions\" : [],\n",
    "        \"index\" : []\n",
    "    }\n",
    "    \n",
    "    for i,p in enumerate(pattern_split):\n",
    "        if i%2 == 0:\n",
    "            pattern_container[\"keys\"].append(p.lower())\n",
    "        if i%2 == 1:\n",
    "            nr1,nr2 = p.split(\",\")\n",
    "            pattern_container[\"restrictions\"].append([int(nr1),int(nr2)])\n",
    "    # add the last element onto the patterna container list\n",
    "    return pattern_container\n",
    "\n",
    "def validate(matches,current_pos,level):\n",
    "    #print level\n",
    "    indexes = [i for i in pattern_container[\"index\"][level] if i > current_pos]\n",
    "    restrictions = pattern_container[\"restrictions\"][level-1]\n",
    "    \n",
    "    for i in indexes:\n",
    "        previous_word = pattern_container[\"keys\"][level-1]\n",
    "        if restrictions[0] <=  i -  (len(previous_word) + current_pos)  <= restrictions[1]:\n",
    "            incremented_matches = matches + [i]\n",
    "            if level  == len(pattern_container[\"keys\"]) - 1:\n",
    "                start_index = incremented_matches[0]\n",
    "                end_index = incremented_matches[-1] + len(pattern_container[\"keys\"][-1])\n",
    "                # print incremented_matches\n",
    "                result.add(query[start_index:end_index])\n",
    "            elif level < len(pattern_container[\"keys\"]) - 1:\n",
    "                validate(incremented_matches,i,level+1)\n",
    "        else: break\n"
   ]
  },
  {
   "cell_type": "code",
   "execution_count": 21,
   "metadata": {
    "collapsed": false
   },
   "outputs": [
    {
     "name": "stdout",
     "output_type": "stream",
     "text": [
      "The keys are ['have', 'cat', 'hat', 'home'] \n",
      "\n",
      "The result is : \n",
      "\n",
      "have a really nice cat in hat at home\n"
     ]
    }
   ],
   "source": [
    "#incoming = \"ammmbnnnbncnnc\"\n",
    "#pattern = \"A[0,20]B[0,20]C[0,20]\"\n",
    "\n",
    "#incoming = \"aammbnnnbncnnc\"\n",
    "#pattern = \"A[0,20]B\"\n",
    "\n",
    "incoming = \"I have a really nice cat in hat at home\"\n",
    "pattern = \"have[0,20]cat[2,7]hat[0,20]home\"\n",
    "\n",
    "#incoming = 'I have a really nice cat in hat at home'\n",
    "#pattern = 'cat[2,4]hat'\n",
    "\n",
    "incoming \n",
    "\n",
    "# initialize global parameters        \n",
    "global query # the string that is being queried\n",
    "global pattern_container # a pattern container\n",
    "global result # container for the matchin strings\n",
    "\n",
    "query = incoming\n",
    "pattern_container = getPattern(pattern)\n",
    "result = set()\n",
    "\n",
    "#print \"The query is {}\".format(query)\n",
    "print \"The keys are {} \\n\".format(pattern_container[\"keys\"])\n",
    "\n",
    "indexes = []\n",
    "for key in pattern_container[\"keys\"]:\n",
    "    indexes.append([m.start() for m in re.finditer('(?={})'.format(key), query)])\n",
    "\n",
    "pattern_container[\"index\"] = indexes\n",
    "\n",
    "#print \"\\n container \\n\"\n",
    "#print pattern_container    \n",
    "\n",
    "#print \"start \\n\"\n",
    "\n",
    "# going through the first list\n",
    "for i in pattern_container[\"index\"][0]:\n",
    "    validate([i],i,1)\n",
    "\n",
    "print \"The result is : \\n\"\n",
    "if result:\n",
    "    for i in result:\n",
    "        print i\n",
    "else:\n",
    "    print \"no match in this text\"\n",
    "\n",
    "# delete from memory\n",
    "del result\n",
    "del incoming           "
   ]
  },
  {
   "cell_type": "code",
   "execution_count": 19,
   "metadata": {
    "collapsed": false
   },
   "outputs": [
    {
     "name": "stdout",
     "output_type": "stream",
     "text": [
      "The keys are ['when', 'republic', 'along'] \n",
      "\n",
      "The result is : \n",
      "\n",
      "no match in this text\n"
     ]
    }
   ],
   "source": [
    "#pattern = 'cats[0,10]are[0,10]to'\n",
    "#pattern = 'or[0,10]or[0,10]or'\n",
    "pattern = 'when[15,25]republic[15,25]along'\n",
    "\n",
    "fileUri = \"/Users/GretarAtli/Dropbox/Dtu/Tools_For_Big_Data/Exercises/challenge_1/wiki_english_art_cat_preproc.xml\"\n",
    "#fileUri = \"/Users/GretarAtli/Dropbox/Dtu/Tools_For_Big_Data/Exercises/challenge_1/wiki_english_art_cat_preproc.xml\"\n",
    "\n",
    "# open a file to process the data\n",
    "with open(fileUri) as f:\n",
    "    for line in f:\n",
    "        incoming = line\n",
    "        query = incoming\n",
    "        \n",
    "        pattern_container = getPattern(pattern)\n",
    "        result = set()\n",
    "\n",
    "        #print \"The query is {}\".format(query)\n",
    "        print \"The keys are {} \\n\".format(pattern_container[\"keys\"])\n",
    "\n",
    "        indexes = []\n",
    "        for key in pattern_container[\"keys\"]:\n",
    "            indexes.append([m.start() for m in re.finditer('(?={})'.format(key), query)])\n",
    "\n",
    "        pattern_container[\"index\"] = indexes\n",
    "\n",
    "        #print \"\\n container \\n\"\n",
    "        #print pattern_container    \n",
    "\n",
    "        #print \"start \\n\"\n",
    "\n",
    "        # going through the first list\n",
    "        for i in pattern_container[\"index\"][0]:\n",
    "            validate([i],i,1)\n",
    "\n",
    "        print \"The result is : \\n\"\n",
    "        if result:\n",
    "            for i in result:\n",
    "                print i\n",
    "        else:\n",
    "            print \"no match in this text\"\n",
    "\n",
    "        # delete from memory\n",
    "        del result\n",
    "        del incoming\n",
    "\n"
   ]
  },
  {
   "cell_type": "code",
   "execution_count": 169,
   "metadata": {
    "collapsed": false
   },
   "outputs": [],
   "source": []
  },
  {
   "cell_type": "code",
   "execution_count": null,
   "metadata": {
    "collapsed": false
   },
   "outputs": [],
   "source": []
  },
  {
   "cell_type": "code",
   "execution_count": null,
   "metadata": {
    "collapsed": false
   },
   "outputs": [],
   "source": []
  },
  {
   "cell_type": "code",
   "execution_count": null,
   "metadata": {
    "collapsed": false
   },
   "outputs": [],
   "source": []
  },
  {
   "cell_type": "code",
   "execution_count": null,
   "metadata": {
    "collapsed": false
   },
   "outputs": [],
   "source": []
  },
  {
   "cell_type": "code",
   "execution_count": null,
   "metadata": {
    "collapsed": false
   },
   "outputs": [],
   "source": []
  },
  {
   "cell_type": "code",
   "execution_count": 43,
   "metadata": {
    "collapsed": false
   },
   "outputs": [],
   "source": []
  },
  {
   "cell_type": "code",
   "execution_count": null,
   "metadata": {
    "collapsed": false
   },
   "outputs": [],
   "source": []
  },
  {
   "cell_type": "markdown",
   "metadata": {},
   "source": [
    "# Regex lausn"
   ]
  },
  {
   "cell_type": "code",
   "execution_count": 95,
   "metadata": {
    "collapsed": false
   },
   "outputs": [
    {
     "name": "stdout",
     "output_type": "stream",
     "text": [
      "AmmmBAnnnB\n",
      "AnnnB\n"
     ]
    }
   ],
   "source": [
    "import regex as re\n",
    "\n",
    "#re.findall(r'cat.{0,4}hat',  \"I have a really nice  cat in  hat at home cat there hat\")\n",
    "\n",
    "# regex lausn\n",
    "\n",
    "re.findall(r'A.{0,20}B{0,20}C{4,6}D',  \"AmmmBAnnnB\")\n",
    "\n",
    "s = \"AmmmBAnnnB\"\n",
    "matches = re.findall(r'A.{0,20}B', s, overlapped=True)\n",
    "for match in matches: print match\n"
   ]
  },
  {
   "cell_type": "code",
   "execution_count": 107,
   "metadata": {
    "collapsed": false
   },
   "outputs": [
    {
     "data": {
      "text/plain": [
       "[0, 1]"
      ]
     },
     "execution_count": 107,
     "metadata": {},
     "output_type": "execute_result"
    }
   ],
   "source": [
    "search = 'AmmmBAnnnB'\n",
    "[m.start() for m in re.finditer('(?=tt)', 'ttt')]"
   ]
  },
  {
   "cell_type": "markdown",
   "metadata": {
    "collapsed": false
   },
   "source": [
    "# Temp"
   ]
  },
  {
   "cell_type": "code",
   "execution_count": null,
   "metadata": {
    "collapsed": true
   },
   "outputs": [],
   "source": [
    "    for i,p in enumerate(pattern_split):\n",
    "        if i%2 == 0:\n",
    "            pat_and_nr = [p.lower()]\n",
    "        if i%2 == 1:\n",
    "            nr1,nr2 = p.split(\",\")\n",
    "            pat_and_nr.append(int(nr1))\n",
    "            pat_and_nr.append(int(nr2))\n",
    "            pattern_container.append(pat_and_nr)\n",
    "    # add the last element onto the patterna container list\n",
    "    pattern_container.append(pat_and_nr)\n",
    "    return pattern_container"
   ]
  }
 ],
 "metadata": {
  "anaconda-cloud": {},
  "kernelspec": {
   "display_name": "Python [conda root]",
   "language": "python",
   "name": "conda-root-py"
  },
  "language_info": {
   "codemirror_mode": {
    "name": "ipython",
    "version": 2
   },
   "file_extension": ".py",
   "mimetype": "text/x-python",
   "name": "python",
   "nbconvert_exporter": "python",
   "pygments_lexer": "ipython2",
   "version": "2.7.12"
  }
 },
 "nbformat": 4,
 "nbformat_minor": 1
}
