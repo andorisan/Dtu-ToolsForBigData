{
 "cells": [
  {
   "cell_type": "markdown",
   "metadata": {},
   "source": [
    "### First I will create a script that can parse down the wikipedia page for henry duncan"
   ]
  },
  {
   "cell_type": "code",
   "execution_count": 17,
   "metadata": {
    "collapsed": false
   },
   "outputs": [
    {
     "name": "stdout",
     "output_type": "stream",
     "text": [
      "0.481900930405\n"
     ]
    }
   ],
   "source": [
    "import json\n",
    "import re\n",
    "import time\n",
    "\n",
    "#fileUri = \"/Users/GretarAtli/Dropbox/Dtu/Tools_For_Big_Data/Exercises/challenge_1/wiki_english_art.xml\"\n",
    "#processedFileUri = \"/Users/GretarAtli/Dropbox/Dtu/Tools_For_Big_Data/Exercises/challenge_1/wiki_english_art_preprocessed.xml\"\n",
    "\n",
    "fileUri = \"/Users/GretarAtli/Dropbox/Dtu/Tools_For_Big_Data/Exercises/challenge_1/mini.xml\"\n",
    "processedFileUri = \"/Users/GretarAtli/Dropbox/Dtu/Tools_For_Big_Data/Exercises/challenge_1/mini_processed.xml\"\n",
    "\n",
    "\n",
    "position = 0 # The state of the program. More info down below\n",
    "counter = 0 # counts the number of article that have been processed\n",
    "text = \"\" # a container for the text\n",
    "\n",
    "t0 = time.time()\n",
    "\n",
    "# position 0 means that the program is currently reading lines that are not between <text><\\text>\n",
    "# position 1 means that the program is currently reading lines that are between <text><\\text>\n",
    "\n",
    "# open a file to write in \n",
    "w = open(processedFileUri, 'w')\n",
    "\n",
    "with open(fileUri) as f:\n",
    "    for line in f:\n",
    "        #  convert line breaks to spaces. Convert all upper case letters to lower case letters. \n",
    "        line = line.replace(\"\\n\",\" \").lower()\n",
    "        if position == 0 :\n",
    "            reresult = re.findall(\"<text.*>(.*)\",line)\n",
    "            # if the string contains the substring <text then we need to start collection the words\n",
    "            if reresult:\n",
    "                #check if the string contains <\\text> to handle the case of <text> and </text> in the same line\n",
    "                reTextEndingResult = re.findall(\"<text.*>(.*)</text>\", line)\n",
    "                if reTextEndingResult:\n",
    "                    counter += 1\n",
    "                    # writing the last part of the page and adding a linebreak in the end\n",
    "                    text = text + reTextEndingResult[0] + \"\\n\"\n",
    "                    position = 0\n",
    "                    w.write(text)\n",
    "                    text = \"\" # initialize the string as a empty string\n",
    "                else:\n",
    "                    text = text + reresult[0]\n",
    "                    position = 1\n",
    "        elif position == 1:\n",
    "            reTextEndingResult = re.findall(\"</text>\", line)\n",
    "            if reTextEndingResult:\n",
    "                reTextEndingResult = re.findall(\"(.*)</text>\", line)\n",
    "                counter += 1\n",
    "                if counter % 1000 == 0:\n",
    "                    print counter\n",
    "                # writing the last part of the page and adding a linebreak in the end\n",
    "                text = text + reTextEndingResult[0] + \"\\n\"\n",
    "                position = 0\n",
    "                w.write(text) # initialize the string as a empty string\n",
    "                text = \"\"\n",
    "            else:\n",
    "                text = text + line\n",
    "w.close()\n",
    "\n",
    "t1 = time.time()\n",
    "\n",
    "print (t1-t0)\n",
    "                "
   ]
  },
  {
   "cell_type": "markdown",
   "metadata": {
    "collapsed": false
   },
   "source": [
    "# Get all article that starts with A"
   ]
  },
  {
   "cell_type": "code",
   "execution_count": 27,
   "metadata": {
    "collapsed": false
   },
   "outputs": [
    {
     "name": "stdout",
     "output_type": "stream",
     "text": [
      "0.636151075363\n"
     ]
    }
   ],
   "source": [
    "import json\n",
    "import re\n",
    "import time\n",
    "\n",
    "fileUri = \"/Users/GretarAtli/Dropbox/Dtu/Tools_For_Big_Data/Exercises/challenge_1/mini.xml\"\n",
    "processedFileUri = \"/Users/GretarAtli/Dropbox/Dtu/Tools_For_Big_Data/Exercises/challenge_1/mini_processed_withouta.xml\"\n",
    "\n",
    "position = 0 # The state of the program. More info down below\n",
    "counter = 0 # counts the number of article that have been processed\n",
    "read = True # variable that controls if the article should be processed or not\n",
    "text = \"\" # a container for the text\n",
    "t0 = time.time()\n",
    "\n",
    "\n",
    "# position 0 means that the program is currently reading lines that are not between <text><\\text>\n",
    "# position 1 means that the program is currently reading lines that are between <text><\\text>\n",
    "\n",
    "# open a file to write in \n",
    "w = open(processedFileUri, 'w')\n",
    "\n",
    "with open(fileUri) as f:\n",
    "    for line in f:\n",
    "        #  convert line breaks to spaces. Convert all upper case letters to lower case letters. \n",
    "        line = line.replace(\"\\n\",\" \").lower()\n",
    "        \n",
    "        # Check if title starts with A, if so then we \n",
    "        reresult = re.findall(\"<title>(.*)</title>\",line)\n",
    "        if reresult:\n",
    "            # Stop reading when the articles do not start with a anymore\n",
    "            if reresult[0].startswith(\"a\") == False:\n",
    "                read = False\n",
    "            else:\n",
    "                read = True\n",
    "                #print reresult[0]\n",
    "        \n",
    "        if read == True:\n",
    "            if position == 0 :\n",
    "                reresult = re.findall(\"<text.*>(.*)\",line)\n",
    "                # if the string contains the substring <text then we need to start collection the words\n",
    "                if reresult:\n",
    "                    #check if the string contains <\\text> to handle the case of <text> and </text> in the same line\n",
    "                    reTextEndingResult = re.findall(\"<text.*>(.*)</text>\", line)\n",
    "                    if reTextEndingResult:\n",
    "                        counter += 1\n",
    "                        # writing the last part of the page and adding a linebreak in the end\n",
    "                        text = text + reTextEndingResult[0] + \"\\n\"\n",
    "                        position = 0\n",
    "                        w.write(text)\n",
    "                        text = \"\" # initialize the string as a empty string\n",
    "                    else:\n",
    "                        text = text + reresult[0]\n",
    "                        position = 1\n",
    "            elif position == 1:\n",
    "                reTextEndingResult = re.findall(\"</text>\", line)\n",
    "                if reTextEndingResult:\n",
    "                    reTextEndingResult = re.findall(\"(.*)</text>\", line)\n",
    "                    counter += 1\n",
    "                    if counter % 1000 == 0:\n",
    "                        print counter\n",
    "                    # writing the last part of the page and adding a linebreak in the end\n",
    "                    text = text + reTextEndingResult[0] + \"\\n\"\n",
    "                    position = 0\n",
    "                    w.write(text) # initialize the string as a empty string\n",
    "                    text = \"\"\n",
    "                else:\n",
    "                    text = text + line\n",
    "w.close()\n",
    "\n",
    "t1 = time.time()\n",
    "\n",
    "print (t1-t0)"
   ]
  },
  {
   "cell_type": "markdown",
   "metadata": {
    "collapsed": false
   },
   "source": [
    "# Get the cat article"
   ]
  },
  {
   "cell_type": "code",
   "execution_count": 23,
   "metadata": {
    "collapsed": false
   },
   "outputs": [
    {
     "name": "stdout",
     "output_type": "stream",
     "text": [
      "angola\n",
      "0.421355962753\n"
     ]
    }
   ],
   "source": [
    "import json\n",
    "import re\n",
    "import time\n",
    "\n",
    "fileUri = \"/Users/GretarAtli/Dropbox/Dtu/Tools_For_Big_Data/Exercises/challenge_1/mini.xml\"\n",
    "processedFileUri = \"/Users/GretarAtli/Dropbox/Dtu/Tools_For_Big_Data/Exercises/challenge_1/mini_processed_angola.xml\"\n",
    "\n",
    "position = 0 # The state of the program. More info down below\n",
    "counter = 0 # counts the number of article that have been processed\n",
    "read = True # variable that controls if the article should be processed or not\n",
    "text = \"\" # a container for the text\n",
    "t0 = time.time()\n",
    "\n",
    "\n",
    "# position 0 means that the program is currently reading lines that are not between <text><\\text>\n",
    "# position 1 means that the program is currently reading lines that are between <text><\\text>\n",
    "\n",
    "# open a file to write in \n",
    "w = open(processedFileUri, 'w')\n",
    "\n",
    "with open(fileUri) as f:\n",
    "    for line in f:\n",
    "        #  convert line breaks to spaces. Convert all upper case letters to lower case letters. \n",
    "        line = line.replace(\"\\n\",\" \").lower()\n",
    "        \n",
    "        # Check if title starts with A, if so then we \n",
    "        reresult = re.findall(\"<title>(.*)</title>\",line)\n",
    "        if reresult:\n",
    "            # Stop reading when the articles do not start with a anymore\n",
    "            if reresult[0] != (\"cat\"):\n",
    "                read = False\n",
    "            else:\n",
    "                read = True\n",
    "                print reresult[0]\n",
    "        \n",
    "        if read == True:\n",
    "            if position == 0 :\n",
    "                reresult = re.findall(\"<text.*>(.*)\",line)\n",
    "                # if the string contains the substring <text then we need to start collection the words\n",
    "                if reresult:\n",
    "                    #check if the string contains <\\text> to handle the case of <text> and </text> in the same line\n",
    "                    reTextEndingResult = re.findall(\"<text.*>(.*)</text>\", line)\n",
    "                    if reTextEndingResult:\n",
    "                        counter += 1\n",
    "                        # writing the last part of the page and adding a linebreak in the end\n",
    "                        text = text + reTextEndingResult[0] + \"\\n\"\n",
    "                        position = 0\n",
    "                        w.write(text)\n",
    "                        text = \"\" # initialize the string as a empty string\n",
    "                    else:\n",
    "                        text = text + reresult[0]\n",
    "                        position = 1\n",
    "            elif position == 1:\n",
    "                reTextEndingResult = re.findall(\"</text>\", line)\n",
    "                if reTextEndingResult:\n",
    "                    reTextEndingResult = re.findall(\"(.*)</text>\", line)\n",
    "                    counter += 1\n",
    "                    if counter % 1000 == 0:\n",
    "                        print counter\n",
    "                    # writing the last part of the page and adding a linebreak in the end\n",
    "                    text = text + reTextEndingResult[0] + \"\\n\"\n",
    "                    position = 0\n",
    "                    w.write(text) # initialize the string as a empty string\n",
    "                    text = \"\"\n",
    "                else:\n",
    "                    text = text + line\n",
    "w.close()\n",
    "\n",
    "t1 = time.time()\n",
    "\n",
    "print (t1-t0)\n",
    "        "
   ]
  }
 ],
 "metadata": {
  "anaconda-cloud": {},
  "kernelspec": {
   "display_name": "Python [conda root]",
   "language": "python",
   "name": "conda-root-py"
  },
  "language_info": {
   "codemirror_mode": {
    "name": "ipython",
    "version": 2
   },
   "file_extension": ".py",
   "mimetype": "text/x-python",
   "name": "python",
   "nbconvert_exporter": "python",
   "pygments_lexer": "ipython2",
   "version": "2.7.12"
  }
 },
 "nbformat": 4,
 "nbformat_minor": 1
}
