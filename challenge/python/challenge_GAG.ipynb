{
 "cells": [
  {
   "cell_type": "markdown",
   "metadata": {},
   "source": [
    "### First I will create a script that can parse down the wikipedia page for henry duncan"
   ]
  },
  {
   "cell_type": "code",
   "execution_count": 2,
   "metadata": {
    "collapsed": false
   },
   "outputs": [],
   "source": [
    "import json\n",
    "import re\n",
    "\n",
    "fileUri = \"/Users/GretarAtli/Documents/GitHub/Dtu/Dtu-ToolsForBigData/challenge/mini.xml\"\n",
    "processedFileUri = \"/Users/GretarAtli/Documents/GitHub/Dtu/Dtu-ToolsForBigData/challenge/mini_processed.xml\"\n",
    "\n",
    "position = 0\n",
    "regex = \"\"\n",
    "text = \"\"\n",
    "\n",
    "# position 0 means that the program is currently reading lines that are not between <text><\\text>\n",
    "# position 1 means that the program is currently reading lines that are between <text><\\text>\n",
    "\n",
    "with open(fileUri) as f:\n",
    "    for line in f:\n",
    "        line = line.replace(\"\\n\",\"\")\n",
    "        if position == 0 :\n",
    "            reresult = re.findall(\"<text.*>(.*)\",line)\n",
    "            if reresult:\n",
    "                text = text + reresult[0]\n",
    "                position = 1\n",
    "        elif position == 1:\n",
    "            reresult = re.findall(\"(.*)</text>\", line)\n",
    "            if reresult:\n",
    "                text = text + reresult[0]\n",
    "                position = 0\n",
    "                # write to file\n",
    "                open(processedFileUri, \"wb\").write(text)\n",
    "                # initialize the string as a empty string\n",
    "                text = \"\"\n",
    "            else:\n",
    "                text = text + line\n",
    "                "
   ]
  },
  {
   "cell_type": "code",
   "execution_count": null,
   "metadata": {
    "collapsed": false
   },
   "outputs": [],
   "source": []
  },
  {
   "cell_type": "markdown",
   "metadata": {},
   "source": [
    "'''henry duncan''' may refer to: *[[henry duncan (royal navy officer, born 1735)]] (1735–1814), naval captain and deputy comptroller of the royal navy *sir [[henry duncan (royal navy officer, born 1786)]] (1786–1835), scottish sailor *[[henry duncan (minister)]] (1774–1846), scottish minister, geologist and social reformer; founder of the savings bank movement  ==see also== * {{intitle}} * [[james henry duncan (disambiguation)]]  {{hndis|duncan, henry}}"
   ]
  },
  {
   "cell_type": "code",
   "execution_count": 9,
   "metadata": {
    "collapsed": false
   },
   "outputs": [
    {
     "ename": "ParseError",
     "evalue": "no element found: line 9980, column 9",
     "output_type": "error",
     "traceback": [
      "\u001b[0;36m  File \u001b[0;32m\"<string>\"\u001b[0;36m, line \u001b[0;32munknown\u001b[0m\n\u001b[0;31mParseError\u001b[0m\u001b[0;31m:\u001b[0m no element found: line 9980, column 9\n"
     ]
    }
   ],
   "source": []
  },
  {
   "cell_type": "code",
   "execution_count": 23,
   "metadata": {
    "collapsed": false
   },
   "outputs": [
    {
     "name": "stdout",
     "output_type": "stream",
     "text": [
      "<page>\n",
      "\n",
      "    <title>Henry Duncan</title>\n",
      "\n",
      "    <ns>0</ns>\n",
      "\n",
      "    <id>20255980</id>\n",
      "\n",
      "    <revision>\n",
      "\n",
      "      <id>732093433</id>\n",
      "\n",
      "      <parentid>732087133</parentid>\n",
      "\n",
      "      <timestamp>2016-07-29T15:35:10Z</timestamp>\n",
      "\n",
      "      <contributor>\n",
      "\n",
      "        <username>Boleyn</username>\n",
      "\n",
      "        <id>6127189</id>\n",
      "\n",
      "      </contributor>\n",
      "\n",
      "      <comment>we don't list partial matches</comment>\n",
      "\n",
      "      <model>wikitext</model>\n",
      "\n",
      "      <format>text/x-wiki</format>\n",
      "\n",
      "      <text xml:space=\"preserve\">'''Henry Duncan''' may refer to:\n",
      "\n",
      "*[[Henry Duncan (Royal Navy officer, born 1735)]] (1735–1814), Naval captain and Deputy Comptroller of the Royal Navy\n",
      "\n",
      "*Sir [[Henry Duncan (Royal Navy officer, born 1786)]] (1786–1835), Scottish sailor\n",
      "\n",
      "*[[Henry Duncan (minister)]] (1774–1846), Scottish minister, geologist and social reformer; founder of the savings bank movement\n",
      "\n",
      "\n",
      "\n",
      "==See also==\n",
      "\n",
      "* {{intitle}}\n",
      "\n",
      "* [[James Henry Duncan (disambiguation)]]\n",
      "\n",
      "\n",
      "\n",
      "{{hndis|Duncan, Henry}}</text>\n",
      "\n",
      "      <sha1>sn7jgqrpw2q3cl5bmsm4y60uwgo30az</sha1>\n",
      "\n",
      "    </revision>\n",
      "\n",
      "  </page>\n"
     ]
    }
   ],
   "source": [
    "fileUri = \"/Users/GretarAtli/Documents/GitHub/Dtu/Dtu-ToolsForBigData/challenge/HenryDuncan.xml\"\n",
    "\n",
    "withintext = False\n",
    "regex = \"\"\n",
    "\n",
    "with open(fileUri) as f:\n",
    "    for line in f:\n",
    "        print line\n",
    "    \n",
    "        "
   ]
  }
 ],
 "metadata": {
  "anaconda-cloud": {},
  "kernelspec": {
   "display_name": "Python [conda root]",
   "language": "python",
   "name": "conda-root-py"
  },
  "language_info": {
   "codemirror_mode": {
    "name": "ipython",
    "version": 2
   },
   "file_extension": ".py",
   "mimetype": "text/x-python",
   "name": "python",
   "nbconvert_exporter": "python",
   "pygments_lexer": "ipython2",
   "version": "2.7.12"
  }
 },
 "nbformat": 4,
 "nbformat_minor": 1
}
