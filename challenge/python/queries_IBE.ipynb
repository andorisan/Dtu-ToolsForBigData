{
 "cells": [
  {
   "cell_type": "code",
   "execution_count": 1,
   "metadata": {
    "collapsed": false
   },
   "outputs": [
    {
     "name": "stdout",
     "output_type": "stream",
     "text": [
      "{6: (27, 'ammmammacmmmmbmmmmmcmmmmmmd'), 7: (40, 'ammmammacmmmmbmmmmmcmmmmmmdnnnnnbnnnnnnd'), 8: (27, 'ammacmmmmbmmmmmcmmmmmmd'), 9: (40, 'ammacmmmmbmmmmmcmmmmmmdnnnnnbnnnnnnd'), 10: (27, 'acmmmmbmmmmmcmmmmmmd'), 11: (40, 'acmmmmbmmmmmcmmmmmmdnnnnnbnnnnnnd')}\n",
      "time 0.00178599357605\n",
      "time 0.000656843185425\n",
      "0.00112915039062\n"
     ]
    }
   ],
   "source": [
    "import time\n",
    "\n",
    "\n",
    "def getPattern(pattern):\n",
    "    pattern = pattern.replace('[',']')\n",
    "    pattern=pattern.split(']')\n",
    "    pattern_sequence = []\n",
    "    for i in range(len(pattern)):\n",
    "        if i % 2:\n",
    "            nums = pattern[i].split(',')\n",
    "            nums= [int(num) for num in nums]\n",
    "            pattern_sequence.append(nums)\n",
    "            \n",
    "        else:\n",
    "            pattern_sequence.append(pattern[i])\n",
    "    return pattern_sequence\n",
    "\n",
    "\n",
    "\n",
    "#with open(\"/Users/Ingvar/Documents/GitHub/Dtu-ToolsForBigData/challenge/wiki_english_art_cat_preproc.xml\") as f:\n",
    "#    test_string = f.read()    \n",
    "\n",
    "test_string = \"ammmammacmmmmbmmmmmcmmmmmmdnnnnnbnnnnnnd\"\n",
    "pattern = getPattern('a[0,20]b[0,20]c[0,20]d')\n",
    "\n",
    "#pattern = getPattern('or[0,10]or[0,10]or')\n",
    "\n",
    "t0 = time.time()\n",
    "results = {}\n",
    "start_index = 0 # so we can loop thorugh all the first letters in the pattern\n",
    "key_counter = 0\n",
    "for i in xrange(test_string.count(pattern[0])):\n",
    "    start_index = min(start_index, len(test_string)-1)\n",
    "    start_index =test_string.index(pattern[0], start_index) + len(pattern[0]) \n",
    "    string = ''\n",
    "    end_index = min(len(test_string),  start_index + pattern[1][1] + len(pattern[2])  + len(pattern[0]))\n",
    "    for j in xrange(start_index , end_index): #her a ad verra pattern length i lykkjuni\n",
    "        string += test_string[j]\n",
    "        if string[-len(pattern[2]):] == pattern[2] and len(string) > pattern[1][0]:\n",
    "            results[key_counter] = (start_index + len(string), pattern[0]+ string) #results[key_counter] = (start_index + len(string),  string) #  \n",
    "            key_counter += 1\n",
    "\n",
    "    start_index += 1\n",
    "t2 = time.time()\n",
    "if len(pattern) > 3:\n",
    "    vec = pattern[3:]\n",
    "    # the ideal is to just a method infuence from dynamic programming, \n",
    "    for i in xrange(1,len(vec), 2):\n",
    "        for key, value in results.items():\n",
    "            start_index, sub_result = value\n",
    "            current_result = ''\n",
    "            end_index = min(start_index + vec[i-1][1] + len(vec[i]), len(test_string))\n",
    "            for j in range(start_index, end_index): \n",
    "                current_result = ''.join([current_result, test_string[j]])\n",
    "                if current_result[-len(vec[i]):] == vec[i] and len(current_result) >vec[i-1][0]:\n",
    "                    results[key_counter] = (start_index + len(current_result), sub_result + current_result)\n",
    "                    key_counter += 1\n",
    "            del results[key]\n",
    "print results\n",
    "\n",
    "    \n",
    "t1 = time.time()\n",
    "\n",
    "print \"time\", t1-t0\n",
    "print \"time\", t2-t0\n",
    "print t1 - t2\n",
    "\n"
   ]
  },
  {
   "cell_type": "code",
   "execution_count": null,
   "metadata": {
    "collapsed": true
   },
   "outputs": [],
   "source": []
  }
 ],
 "metadata": {
  "anaconda-cloud": {},
  "kernelspec": {
   "display_name": "Python [default]",
   "language": "python",
   "name": "python2"
  },
  "language_info": {
   "codemirror_mode": {
    "name": "ipython",
    "version": 2
   },
   "file_extension": ".py",
   "mimetype": "text/x-python",
   "name": "python",
   "nbconvert_exporter": "python",
   "pygments_lexer": "ipython2",
   "version": "2.7.12"
  }
 },
 "nbformat": 4,
 "nbformat_minor": 2
}
