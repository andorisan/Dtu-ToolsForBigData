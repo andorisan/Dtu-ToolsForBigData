{
 "cells": [
  {
   "cell_type": "markdown",
   "metadata": {},
   "source": [
    "## Exercise 3.1 (numpy)\n",
    "\n",
    "Write a script which reads a matrix from a file like this one​ and solves the linear matrix equation Ax=b where b is the last column of the input-matrix and A is the other columns. It is okay to use the solve()-function from numpy.linalg. Does the result make sense?\n",
    "\n",
    "1,2,3,4\n",
    "6,9,12,7 \n",
    "2,0,9,10"
   ]
  },
  {
   "cell_type": "code",
   "execution_count": 240,
   "metadata": {
    "collapsed": false
   },
   "outputs": [
    {
     "name": "stdout",
     "output_type": "stream",
     "text": [
      "The input matrix is: \n",
      " \n",
      " [[ 1  2  3  4]\n",
      " [ 6  9 12  7]\n",
      " [ 2  0  9 10]] \n",
      "\n",
      "The matrix A: \n",
      " \n",
      " [[ 1  2  3]\n",
      " [ 6  9 12]\n",
      " [ 2  0  9]] \n",
      "\n",
      "The matrix B: \n",
      " \n",
      " [ 4  7 10] \n",
      "\n",
      "The solution to the linear matrix equation is: \n",
      " \n",
      " [-5.09090909  1.18181818  2.24242424] \n",
      "\n",
      "DOES THE RESULT MAKE SENSE? \n",
      "\n",
      "The result from A.dot(x) is: \n",
      " \n",
      " [[ 4.  7. 10.]] \n",
      "\n",
      "Which is the same as b\n"
     ]
    }
   ],
   "source": [
    "import numpy as np\n",
    "\n",
    "f = open ( 'matrix.txt' , 'r')\n",
    "matrix = [ map(int,line.split(',')) for line in f if line.strip() != \"\" ]\n",
    "\n",
    "print \"The input matrix is: \\n \\n {} \\n\".format(np.matrix(matrix))\n",
    "\n",
    "A = np.matrix(matrix)[:,:-1]\n",
    "b = np.array(matrix)[:,-1]\n",
    "\n",
    "print \"The matrix A: \\n \\n {} \\n\".format(A)\n",
    "print \"The matrix B: \\n \\n {} \\n\".format(b)\n",
    "\n",
    "x = np.linalg.solve(A, b)\n",
    "\n",
    "print \"The solution to the linear matrix equation is: \\n \\n {} \\n\".format(x)\n",
    "\n",
    "# Check if the result make sense\n",
    "print \"DOES THE RESULT MAKE SENSE? \\n\"\n",
    "#let´s check the result by comparing the result of A.dot(x) to b\n",
    "print \"The result from A.dot(x) is: \\n \\n {} \\n\".format(A.dot(x))\n",
    "\n",
    "\n",
    "# To check if the numbers in the two arrays are the same we created this funciton\n",
    "# Re: Comparing floats for equality in Python\n",
    "def feq(a,b):\n",
    "    if abs(a-b)<0.00000001:\n",
    "        return 1\n",
    "    else:\n",
    "        return 0\n",
    "\n",
    "isTheSame = True\n",
    "# Here we go through every float number in the result of the dot product A.dot(x)\n",
    "#   we use np.nditer to iter through the array and then we use the function feq to check if the float numbers are equal\n",
    "for i,number in enumerate(np.nditer(np.asarray(A.dot(x)))): \n",
    "    if feq(float(b[i]), float(number)) == 0:\n",
    "        isTheSame = False\n",
    "        break\n",
    "\n",
    "if isTheSame:\n",
    "    print \"Which is the same as b\"\n",
    "else:\n",
    "    print \"Which is not the same as b\""
   ]
  },
  {
   "cell_type": "code",
   "execution_count": 243,
   "metadata": {
    "collapsed": false
   },
   "outputs": [
    {
     "data": {
      "text/plain": [
       "[[1, 2, 3, 4], [6, 9, 12, 7], [2, 0, 9, 10]]"
      ]
     },
     "execution_count": 243,
     "metadata": {},
     "output_type": "execute_result"
    }
   ],
   "source": [
    "matrix"
   ]
  },
  {
   "cell_type": "markdown",
   "metadata": {
    "collapsed": false
   },
   "source": [
    "## Exercise 3.2  scipy\n",
    "\n",
    "Write a script that reads in this list of points (x,y)​, fits/interpolates them with a polynomial of degree 3. Solve for the (real) roots of the polynomial numerically using Scipy’s optimization functions (not the root function in Numpy). Does the result make sense (plot something to check).?"
   ]
  },
  {
   "cell_type": "code",
   "execution_count": 237,
   "metadata": {
    "collapsed": false
   },
   "outputs": [
    {
     "name": "stdout",
     "output_type": "stream",
     "text": [
      "The polynomial is as follows: y = 3.91800200959 + -2.00736184939*x + 1.0010618462*x^2 + 2.99999264076*x^3\n"
     ]
    },
    {
     "data": {
      "image/png": "[encoded data removed]",
      "text/plain": [
       "<matplotlib.figure.Figure at 0x10fcb3bd0>"
      ]
     },
     "metadata": {},
     "output_type": "display_data"
    }
   ],
   "source": [
    "import numpy as np\n",
    "import matplotlib.pyplot as plt\n",
    "\n",
    "f = open( 'list_of_points' , 'r')\n",
    "\n",
    "X = []\n",
    "Y = []\n",
    "\n",
    "for line in f:\n",
    "    # The method strip() returns a copy of the string in which all chars have been stripped from the beginning \n",
    "    #   and the end of the string \n",
    "    line = line.strip()\n",
    "    # Split the line on ' ' and capture the result in the variables x and y\n",
    "    x,y = line.split(' ')\n",
    "    X.append(float(x))\n",
    "    Y.append(float(y))\n",
    "\n",
    "# Use numpy.polyfit to fit polynomial of degree 3\n",
    "#  The function returns the polynomial coefficients, highest power first\n",
    "z =  np.polyfit(np.array(X),np.array(Y),3)\n",
    "# scipy.optimize.root\n",
    "\n",
    "print \"The polynomial is as follows: y = {} + {}*x + {}*x^2 + {}*x^3\".format(z[-1],z[-2],z[-3],z[-4])\n",
    "\n",
    "def get_Y_from_poly(x,poly_coeff):\n",
    "    y = poly_coeff[-1] + x*poly_coeff[-2] + x**2*poly_coeff[-3] + x**3*poly_coeff[-4]\n",
    "    return y\n",
    "    \n",
    "# Calculating the Y values for the polynomial \n",
    "Y_poly = map((lambda x: z[-1] + x*z[-2] + x**2*z[-3] + x**3*z[-4]),X)\n",
    "\n",
    "# plot up the original coordinates\n",
    "plt.plot(X,Y)\n",
    "\n",
    "# plot up the polynomial coordiantes\n",
    "plt.plot(X,Y_poly,'--',color='r')\n",
    "\n",
    "plt.margins(0.1,0.1)\n",
    "plt.show()\n",
    "\n",
    "\n"
   ]
  },
  {
   "cell_type": "code",
   "execution_count": 228,
   "metadata": {
    "collapsed": false
   },
   "outputs": [
    {
     "data": {
      "text/plain": [
       "[-23555.45114857392,\n",
       " -20173.508319322118,\n",
       " -17131.562527424132,\n",
       " -14411.613817035422,\n",
       " -11995.662232311457,\n",
       " -9865.7078174076942,\n",
       " -8003.7506164795986,\n",
       " -6391.7906736826326,\n",
       " -5011.8280331722581,\n",
       " -3845.8627391039395,\n",
       " -2875.8948356331384,\n",
       " -2083.9243669153175,\n",
       " -1451.9513771059401,\n",
       " -961.97591036046856,\n",
       " -595.99801083436569,\n",
       " -336.01772268309441,\n",
       " -164.03509006211723,\n",
       " -62.050157126897048,\n",
       " -12.062968032896586,\n",
       " 3.9264330644214196,\n",
       " 3.9180020095942205,\n",
       " 5.9116946471590666,\n",
       " 27.907466821653212,\n",
       " 87.905274377613907,\n",
       " 203.90507315957842,\n",
       " 393.90681901208399,\n",
       " 675.91046777966778,\n",
       " 1067.9159753068673,\n",
       " 1587.9232974382194,\n",
       " 2253.9323900182617,\n",
       " 3083.9432088915314,\n",
       " 4095.9557099025656,\n",
       " 5307.9698488959011,\n",
       " 6737.9855817160769,\n",
       " 8404.0028642076286,\n",
       " 10324.021652215093,\n",
       " 12516.041901583008,\n",
       " 14998.063568155912,\n",
       " 17788.086607778343,\n",
       " 20904.110976294836]"
      ]
     },
     "execution_count": 228,
     "metadata": {},
     "output_type": "execute_result"
    }
   ],
   "source": [
    "map((lambda x: z[-1] + x*z[-2] + x**2*z[-3] + x**3*z[-4]),X)"
   ]
  },
  {
   "cell_type": "code",
   "execution_count": 230,
   "metadata": {
    "collapsed": false
   },
   "outputs": [
    {
     "data": {
      "text/plain": [
       "[-23555.255109,\n",
       " -20173.3974282,\n",
       " -17132.3837602,\n",
       " -14411.0122397,\n",
       " -11995.5143165,\n",
       " -9866.56079994,\n",
       " -8003.20516776,\n",
       " -6391.33486532,\n",
       " -5011.46272799,\n",
       " -3846.72649659,\n",
       " -2875.44384973,\n",
       " -2084.52334173,\n",
       " -1451.39186881,\n",
       " -962.410182094,\n",
       " -595.527093183,\n",
       " -336.594621263,\n",
       " -164.079980951,\n",
       " -62.3865271886,\n",
       " -11.4248727521,\n",
       " 3.06432478431,\n",
       " 4.2075972256,\n",
       " 6.21613879401,\n",
       " 27.6438528957,\n",
       " 88.1769918986,\n",
       " 204.004215243,\n",
       " 393.974856926,\n",
       " 676.404800703,\n",
       " 1067.92293554,\n",
       " 1587.79538772,\n",
       " 2254.39823935,\n",
       " 3084.45830648,\n",
       " 4095.6559199,\n",
       " 5307.24683802,\n",
       " 6737.59055266,\n",
       " 8404.59368987,\n",
       " 10323.5165333,\n",
       " 12515.2158242,\n",
       " 14998.1210883,\n",
       " 17788.5813223,\n",
       " 20904.4422828]"
      ]
     },
     "execution_count": 230,
     "metadata": {},
     "output_type": "execute_result"
    }
   ],
   "source": [
    "Y"
   ]
  },
  {
   "cell_type": "code",
   "execution_count": null,
   "metadata": {
    "collapsed": true
   },
   "outputs": [],
   "source": []
  },
  {
   "cell_type": "code",
   "execution_count": null,
   "metadata": {
    "collapsed": true
   },
   "outputs": [],
   "source": []
  },
  {
   "cell_type": "code",
   "execution_count": null,
   "metadata": {
    "collapsed": true
   },
   "outputs": [],
   "source": []
  },
  {
   "cell_type": "code",
   "execution_count": null,
   "metadata": {
    "collapsed": false
   },
   "outputs": [],
   "source": []
  },
  {
   "cell_type": "code",
   "execution_count": null,
   "metadata": {
    "collapsed": false
   },
   "outputs": [],
   "source": []
  },
  {
   "cell_type": "code",
   "execution_count": null,
   "metadata": {
    "collapsed": false
   },
   "outputs": [],
   "source": []
  },
  {
   "cell_type": "code",
   "execution_count": null,
   "metadata": {
    "collapsed": false
   },
   "outputs": [],
   "source": []
  },
  {
   "cell_type": "code",
   "execution_count": null,
   "metadata": {
    "collapsed": false
   },
   "outputs": [],
   "source": []
  }
 ],
 "metadata": {
  "anaconda-cloud": {},
  "kernelspec": {
   "display_name": "Python [conda root]",
   "language": "python",
   "name": "conda-root-py"
  },
  "language_info": {
   "codemirror_mode": {
    "name": "ipython",
    "version": 2
   },
   "file_extension": ".py",
   "mimetype": "text/x-python",
   "name": "python",
   "nbconvert_exporter": "python",
   "pygments_lexer": "ipython2",
   "version": "2.7.12"
  }
 },
 "nbformat": 4,
 "nbformat_minor": 1
}
