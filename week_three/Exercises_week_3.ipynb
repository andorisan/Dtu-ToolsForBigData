{
 "cells": [
  {
   "cell_type": "markdown",
   "metadata": {},
   "source": [
    "## Exercise 3.1 (numpy)\n",
    "\n",
    "Write a script which reads a matrix from a file like this one​ and solves the linear matrix equation Ax=b where b is the last column of the input-matrix and A is the other columns. It is okay to use the solve()-function from numpy.linalg. Does the result make sense?\n",
    "\n",
    "1,2,3,4\n",
    "6,9,12,7 \n",
    "2,0,9,10"
   ]
  },
  {
   "cell_type": "code",
   "execution_count": 240,
   "metadata": {
    "collapsed": false
   },
   "outputs": [
    {
     "name": "stdout",
     "output_type": "stream",
     "text": [
      "The input matrix is: \n",
      " \n",
      " [[ 1  2  3  4]\n",
      " [ 6  9 12  7]\n",
      " [ 2  0  9 10]] \n",
      "\n",
      "The matrix A: \n",
      " \n",
      " [[ 1  2  3]\n",
      " [ 6  9 12]\n",
      " [ 2  0  9]] \n",
      "\n",
      "The matrix B: \n",
      " \n",
      " [ 4  7 10] \n",
      "\n",
      "The solution to the linear matrix equation is: \n",
      " \n",
      " [-5.09090909  1.18181818  2.24242424] \n",
      "\n",
      "DOES THE RESULT MAKE SENSE? \n",
      "\n",
      "The result from A.dot(x) is: \n",
      " \n",
      " [[ 4.  7. 10.]] \n",
      "\n",
      "Which is the same as b\n"
     ]
    }
   ],
   "source": [
    "import numpy as np\n",
    "\n",
    "f = open ( 'matrix.txt' , 'r')\n",
    "matrix = [ map(int,line.split(',')) for line in f if line.strip() != \"\" ]\n",
    "\n",
    "print \"The input matrix is: \\n \\n {} \\n\".format(np.matrix(matrix))\n",
    "\n",
    "A = np.matrix(matrix)[:,:-1]\n",
    "b = np.array(matrix)[:,-1]\n",
    "\n",
    "print \"The matrix A: \\n \\n {} \\n\".format(A)\n",
    "print \"The matrix B: \\n \\n {} \\n\".format(b)\n",
    "\n",
    "x = np.linalg.solve(A, b)\n",
    "\n",
    "print \"The solution to the linear matrix equation is: \\n \\n {} \\n\".format(x)\n",
    "\n",
    "# Check if the result make sense\n",
    "print \"DOES THE RESULT MAKE SENSE? \\n\"\n",
    "#let´s check the result by comparing the result of A.dot(x) to b\n",
    "print \"The result from A.dot(x) is: \\n \\n {} \\n\".format(A.dot(x))\n",
    "\n",
    "\n",
    "# To check if the numbers in the two arrays are the same we created this funciton\n",
    "# Re: Comparing floats for equality in Python\n",
    "def feq(a,b):\n",
    "    if abs(a-b)<0.00000001:\n",
    "        return 1\n",
    "    else:\n",
    "        return 0\n",
    "\n",
    "isTheSame = True\n",
    "# Here we go through every float number in the result of the dot product A.dot(x)\n",
    "#   we use np.nditer to iter through the array and then we use the function feq to check if the float numbers are equal\n",
    "for i,number in enumerate(np.nditer(np.asarray(A.dot(x)))): \n",
    "    if feq(float(b[i]), float(number)) == 0:\n",
    "        isTheSame = False\n",
    "        break\n",
    "\n",
    "if isTheSame:\n",
    "    print \"Which is the same as b\"\n",
    "else:\n",
    "    print \"Which is not the same as b\""
   ]
  },
  {
   "cell_type": "code",
   "execution_count": 243,
   "metadata": {
    "collapsed": false
   },
   "outputs": [
    {
     "data": {
      "text/plain": [
       "[[1, 2, 3, 4], [6, 9, 12, 7], [2, 0, 9, 10]]"
      ]
     },
     "execution_count": 243,
     "metadata": {},
     "output_type": "execute_result"
    }
   ],
   "source": [
    "matrix"
   ]
  },
  {
   "cell_type": "markdown",
   "metadata": {
    "collapsed": false
   },
   "source": [
    "## Exercise 3.2  scipy\n",
    "\n",
    "Write a script that reads in this list of points (x,y)​, fits/interpolates them with a polynomial of degree 3. Solve for the (real) roots of the polynomial numerically using Scipy’s optimization functions (not the root function in Numpy). Does the result make sense (plot something to check).?"
   ]
  },
  {
   "cell_type": "code",
   "execution_count": 274,
   "metadata": {
    "collapsed": false
   },
   "outputs": [
    {
     "name": "stdout",
     "output_type": "stream",
     "text": [
      "The polynomial is as follows: y = 3.91800200959 + -2.00736184939*x + 1.0010618462*x^2 + 2.99999264076*x^3\n",
      "The real roots are: [-1.4346362874780969, -1.4346362874780967, -1.4346362874780967, -1.4346362874781209, -1.4346362874780976, -1.4346362874780969, -1.4346362874780969, -1.4346362874781386, -1.4346362874780971, -1.4346362874780967, -1.4346362874781897, -1.4346362874780969, -1.4346362874780969, -1.4346362874780978, -1.4346362874780967, -1.4346362874780967, -1.4346362874780969, -1.4346362874780969, -1.4346362874780978, -1.4346362874780827, 0.37403139438588834, 0.37485266795694844, 0.37404966133734757, 0.3689353161346639, 0.37447685330444941, 0.37391661548571326, -1.4346362874780967, 0.37347230427015854, -1.4346362874780969, 0.36831652879880883, 0.37423941265349941, -1.4346362874780967, -1.4346362874780891, 0.37303378406038196, -1.4346362874780967, 0.3738868138079296, -1.4346362874780969, 0.37377270583091021, 0.37230714483144645, 0.37649743281903353]\n"
     ]
    },
    {
     "data": {
      "image/png": "[encoded data removed]",
      "text/plain": [
       "<matplotlib.figure.Figure at 0x11090d0d0>"
      ]
     },
     "metadata": {},
     "output_type": "display_data"
    }
   ],
   "source": [
    "import numpy as np\n",
    "from scipy.optimize import fsolve\n",
    "import matplotlib.pyplot as plt\n",
    "\n",
    "f = open( 'list_of_points' , 'r')\n",
    "\n",
    "X = []\n",
    "Y = []\n",
    "\n",
    "for line in f:\n",
    "    # The method strip() returns a copy of the string in which all chars have been stripped from the beginning \n",
    "    #   and the end of the string \n",
    "    line = line.strip()\n",
    "    # Split the line on ' ' and capture the result in the variables x and y\n",
    "    x,y = line.split(' ')\n",
    "    X.append(float(x))\n",
    "    Y.append(float(y))\n",
    "\n",
    "# Use numpy.polyfit to fit polynomial of degree 3\n",
    "#  The function returns the polynomial coefficients, highest power first\n",
    "z =  np.polyfit(np.array(X),np.array(Y),3)\n",
    "# scipy.optimize.root\n",
    "\n",
    "print \"The polynomial is as follows: y = {} + {}*x + {}*x^2 + {}*x^3\".format(z[-1],z[-2],z[-3],z[-4])\n",
    "\n",
    "# Calculating the Y values for the polynomial\n",
    "#   here we use anonymous function to calculate the Y values for each x\n",
    "Y_poly = map((lambda x: z[-1] + x*z[-2] + x**2*z[-3] + x**3*z[-4]),X)\n",
    "\n",
    "# Find the real roots of the polynomial by using fsolve\n",
    "real_roots = []\n",
    "\n",
    "for initGuess in range(-20,20):\n",
    "    real_roots.append(fsolve((lambda x: z[-1] + x*z[-2] + x**2*z[-3] + x**3*z[-4]),initGuess)[0])\n",
    "\n",
    "print \"The real roots are: {}\".format(real_roots)\n",
    "\n",
    "# plot up the original coordinates\n",
    "plt.plot(X,Y)\n",
    "\n",
    "# plot up the polynomial coordiantes\n",
    "plt.plot(X,Y_poly,'--',color='r')\n",
    "\n",
    "# plot a zero line onto the graph to visualize the real roots\n",
    "plt.plot(X,np.zeros(len(X)),color='g')\n",
    "\n",
    "plt.title(\"Polynomial of degree 3\")\n",
    "plt.xlabel(\"X\")\n",
    "plt.ylabel(\"Y\")\n",
    "plt.margins(0.1,0.1)\n",
    "plt.show()\n"
   ]
  },
  {
   "cell_type": "markdown",
   "metadata": {
    "collapsed": false
   },
   "source": [
    "## Exercise 3.3 (cython)\n"
   ]
  },
  {
   "cell_type": "code",
   "execution_count": 30,
   "metadata": {
    "collapsed": false
   },
   "outputs": [
    {
     "name": "stdout",
     "output_type": "stream",
     "text": [
      "--- 1.17089319229 seconds ---\n"
     ]
    }
   ],
   "source": [
    "from __future__ import division\n",
    "\n",
    "# Normal python function to calculate the sum 1/1^2 + 1/2^2 + 1/3^2 + ... + 1/10000^2\n",
    "def calculate(n):\n",
    "    sum = 0.0\n",
    "    for i in range(1,n+1):\n",
    "        sum += 1/(i**2)\n",
    "    return sum\n",
    "\n",
    "# Find the execution time of the python fucntion\n",
    "import time\n",
    "start_time = time.time()\n",
    "for j in range(0,500):\n",
    "    s = calculate(10000)\n",
    "print(\"--- %s seconds ---\" % (time.time() - start_time))"
   ]
  },
  {
   "cell_type": "code",
   "execution_count": 24,
   "metadata": {
    "collapsed": false
   },
   "outputs": [
    {
     "ename": "SyntaxError",
     "evalue": "invalid syntax (<ipython-input-24-b79d0f35097b>, line 4)",
     "output_type": "error",
     "traceback": [
      "\u001b[0;36m  File \u001b[0;32m\"<ipython-input-24-b79d0f35097b>\"\u001b[0;36m, line \u001b[0;32m4\u001b[0m\n\u001b[0;31m    cpdef int normal_execution():\u001b[0m\n\u001b[0m            ^\u001b[0m\n\u001b[0;31mSyntaxError\u001b[0m\u001b[0;31m:\u001b[0m invalid syntax\n"
     ]
    }
   ],
   "source": [
    "from __future__ import division\n",
    "\n",
    "# cython function to calculate the sum 1/1^2 + 1/2^2 + 1/3^2 + ... + 1/10000^2\n",
    "cpdef float normal_execution():\n",
    "    cdef float sum = 0.0\n",
    "    cdef int i\n",
    "    for i in range(1,10001):\n",
    "        sum += 1/(i**2)\n",
    "\n",
    "# Find the execution time of the python fucntion\n",
    "import time\n",
    "start_time = time.time()\n",
    "for j in range(0,500):\n",
    "    normal_execution()\n",
    "print(\"--- %s seconds ---\" % (time.time() - start_time))"
   ]
  },
  {
   "cell_type": "code",
   "execution_count": null,
   "metadata": {
    "collapsed": false
   },
   "outputs": [],
   "source": []
  },
  {
   "cell_type": "code",
   "execution_count": null,
   "metadata": {
    "collapsed": true
   },
   "outputs": [],
   "source": []
  },
  {
   "cell_type": "code",
   "execution_count": null,
   "metadata": {
    "collapsed": true
   },
   "outputs": [],
   "source": []
  },
  {
   "cell_type": "code",
   "execution_count": null,
   "metadata": {
    "collapsed": true
   },
   "outputs": [],
   "source": []
  },
  {
   "cell_type": "code",
   "execution_count": null,
   "metadata": {
    "collapsed": false
   },
   "outputs": [],
   "source": []
  },
  {
   "cell_type": "code",
   "execution_count": null,
   "metadata": {
    "collapsed": false
   },
   "outputs": [],
   "source": []
  },
  {
   "cell_type": "code",
   "execution_count": null,
   "metadata": {
    "collapsed": false
   },
   "outputs": [],
   "source": []
  },
  {
   "cell_type": "code",
   "execution_count": null,
   "metadata": {
    "collapsed": false
   },
   "outputs": [],
   "source": []
  },
  {
   "cell_type": "code",
   "execution_count": null,
   "metadata": {
    "collapsed": false
   },
   "outputs": [],
   "source": []
  }
 ],
 "metadata": {
  "anaconda-cloud": {},
  "kernelspec": {
   "display_name": "Python [conda root]",
   "language": "python",
   "name": "conda-root-py"
  },
  "language_info": {
   "codemirror_mode": {
    "name": "ipython",
    "version": 2
   },
   "file_extension": ".py",
   "mimetype": "text/x-python",
   "name": "python",
   "nbconvert_exporter": "python",
   "pygments_lexer": "ipython2",
   "version": "2.7.12"
  }
 },
 "nbformat": 4,
 "nbformat_minor": 1
}
